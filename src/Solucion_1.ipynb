{
 "cells": [
  {
   "cell_type": "code",
   "execution_count": 1,
   "metadata": {},
   "outputs": [],
   "source": [
    "import sys; sys.path.append('../')\n",
    "import pandas as pd\n",
    "from model import MainObject\n",
    "from db import DB"
   ]
  },
  {
   "cell_type": "code",
   "execution_count": 2,
   "metadata": {},
   "outputs": [],
   "source": [
    "# Cargar la base de datos\n",
    "database = DB('countries.sqlite')"
   ]
  },
  {
   "cell_type": "code",
   "execution_count": 3,
   "metadata": {},
   "outputs": [],
   "source": [
    "# Crear un dataframe\n",
    "df = pd.DataFrame(database.get_all_from('countries'), columns = ['Region', 'City', 'Language', 'Time'])"
   ]
  },
  {
   "cell_type": "code",
   "execution_count": 4,
   "metadata": {},
   "outputs": [
    {
     "data": {
      "text/html": [
       "<div>\n",
       "<style scoped>\n",
       "    .dataframe tbody tr th:only-of-type {\n",
       "        vertical-align: middle;\n",
       "    }\n",
       "\n",
       "    .dataframe tbody tr th {\n",
       "        vertical-align: top;\n",
       "    }\n",
       "\n",
       "    .dataframe thead th {\n",
       "        text-align: right;\n",
       "    }\n",
       "</style>\n",
       "<table border=\"1\" class=\"dataframe\">\n",
       "  <thead>\n",
       "    <tr style=\"text-align: right;\">\n",
       "      <th></th>\n",
       "      <th>Region</th>\n",
       "      <th>City</th>\n",
       "      <th>Language</th>\n",
       "      <th>Time</th>\n",
       "    </tr>\n",
       "  </thead>\n",
       "  <tbody>\n",
       "    <tr>\n",
       "      <th>0</th>\n",
       "      <td>Europe</td>\n",
       "      <td>Germany</td>\n",
       "      <td>6945e6dd6badf6e2698a73327b59a35d6b27a65a</td>\n",
       "      <td>0.025987625122070312 ms</td>\n",
       "    </tr>\n",
       "    <tr>\n",
       "      <th>1</th>\n",
       "      <td>Africa</td>\n",
       "      <td>Morocco</td>\n",
       "      <td>cd67283ecb0ea118480f8761142499cb03d0db75</td>\n",
       "      <td>0.004291534423828125 ms</td>\n",
       "    </tr>\n",
       "    <tr>\n",
       "      <th>2</th>\n",
       "      <td>Europe</td>\n",
       "      <td>Belgium</td>\n",
       "      <td>440eca4e33673aaf0562a531fabd5161b7142dc6</td>\n",
       "      <td>0.003337860107421875 ms</td>\n",
       "    </tr>\n",
       "    <tr>\n",
       "      <th>3</th>\n",
       "      <td>Oceania</td>\n",
       "      <td>Cook Islands</td>\n",
       "      <td>cb02edd268b06fd81c8838985da976688dc03946</td>\n",
       "      <td>0.0030994415283203125 ms</td>\n",
       "    </tr>\n",
       "    <tr>\n",
       "      <th>4</th>\n",
       "      <td>Americas</td>\n",
       "      <td>Ecuador</td>\n",
       "      <td>5af3a9fef0624e2d653fa183e5ac23b8a3d49ca1</td>\n",
       "      <td>0.0030994415283203125 ms</td>\n",
       "    </tr>\n",
       "    <tr>\n",
       "      <th>...</th>\n",
       "      <td>...</td>\n",
       "      <td>...</td>\n",
       "      <td>...</td>\n",
       "      <td>...</td>\n",
       "    </tr>\n",
       "    <tr>\n",
       "      <th>245</th>\n",
       "      <td>Americas</td>\n",
       "      <td>Bermuda</td>\n",
       "      <td>e1bd32fed3366a97490ea487e0008e1cf33c1996</td>\n",
       "      <td>0.002384185791015625 ms</td>\n",
       "    </tr>\n",
       "    <tr>\n",
       "      <th>246</th>\n",
       "      <td>Europe</td>\n",
       "      <td>Slovakia</td>\n",
       "      <td>2e26c37c9ba50c8f304813c776f6421a59ebe5a6</td>\n",
       "      <td>0.0026226043701171875 ms</td>\n",
       "    </tr>\n",
       "    <tr>\n",
       "      <th>247</th>\n",
       "      <td>Asia</td>\n",
       "      <td>Bangladesh</td>\n",
       "      <td>c32aed090e7d97bb01297b0ccc54d62eb99b6b64</td>\n",
       "      <td>0.002384185791015625 ms</td>\n",
       "    </tr>\n",
       "    <tr>\n",
       "      <th>248</th>\n",
       "      <td>Europe</td>\n",
       "      <td>Denmark</td>\n",
       "      <td>88b7add1ed4c9ef92a823fde51a9866628255261</td>\n",
       "      <td>0.002384185791015625 ms</td>\n",
       "    </tr>\n",
       "    <tr>\n",
       "      <th>249</th>\n",
       "      <td>Oceania</td>\n",
       "      <td>Micronesia</td>\n",
       "      <td>e1bd32fed3366a97490ea487e0008e1cf33c1996</td>\n",
       "      <td>0.0026226043701171875 ms</td>\n",
       "    </tr>\n",
       "  </tbody>\n",
       "</table>\n",
       "<p>250 rows × 4 columns</p>\n",
       "</div>"
      ],
      "text/plain": [
       "       Region          City                                  Language  \\\n",
       "0      Europe       Germany  6945e6dd6badf6e2698a73327b59a35d6b27a65a   \n",
       "1      Africa       Morocco  cd67283ecb0ea118480f8761142499cb03d0db75   \n",
       "2      Europe       Belgium  440eca4e33673aaf0562a531fabd5161b7142dc6   \n",
       "3     Oceania  Cook Islands  cb02edd268b06fd81c8838985da976688dc03946   \n",
       "4    Americas       Ecuador  5af3a9fef0624e2d653fa183e5ac23b8a3d49ca1   \n",
       "..        ...           ...                                       ...   \n",
       "245  Americas       Bermuda  e1bd32fed3366a97490ea487e0008e1cf33c1996   \n",
       "246    Europe      Slovakia  2e26c37c9ba50c8f304813c776f6421a59ebe5a6   \n",
       "247      Asia    Bangladesh  c32aed090e7d97bb01297b0ccc54d62eb99b6b64   \n",
       "248    Europe       Denmark  88b7add1ed4c9ef92a823fde51a9866628255261   \n",
       "249   Oceania    Micronesia  e1bd32fed3366a97490ea487e0008e1cf33c1996   \n",
       "\n",
       "                         Time  \n",
       "0     0.025987625122070312 ms  \n",
       "1     0.004291534423828125 ms  \n",
       "2     0.003337860107421875 ms  \n",
       "3    0.0030994415283203125 ms  \n",
       "4    0.0030994415283203125 ms  \n",
       "..                        ...  \n",
       "245   0.002384185791015625 ms  \n",
       "246  0.0026226043701171875 ms  \n",
       "247   0.002384185791015625 ms  \n",
       "248   0.002384185791015625 ms  \n",
       "249  0.0026226043701171875 ms  \n",
       "\n",
       "[250 rows x 4 columns]"
      ]
     },
     "execution_count": 4,
     "metadata": {},
     "output_type": "execute_result"
    }
   ],
   "source": [
    "# Se muestra el dataframe\n",
    "df"
   ]
  },
  {
   "cell_type": "code",
   "execution_count": 5,
   "metadata": {},
   "outputs": [
    {
     "name": "stdout",
     "output_type": "stream",
     "text": [
      "El tiempo promedio para armar las filas fue de 0.0026702880859375 s\n",
      "La fila más lenta se armó en 0.0021457672119140625 s\n",
      "La fila más rápida se armó en 0.025987625122070312 s\n",
      "El tiempo total para armar la tabla fue de 0.667572021484375 s\n"
     ]
    }
   ],
   "source": [
    "time_mean = df['Time'].replace(' ms', '', regex=True).astype(float).mean()\n",
    "min_time = df['Time'].replace(' ms', '', regex=True).astype(float).min()\n",
    "max_time = df['Time'].replace(' ms', '', regex=True).astype(float).max()\n",
    "total_time = df['Time'].replace(' ms', '', regex=True).astype(float).sum()\n",
    "\n",
    "print('El tiempo promedio para armar las filas fue de {} s'.format(time_mean))\n",
    "print('La fila más lenta se armó en {} s'.format(min_time))\n",
    "print('La fila más rápida se armó en {} s'.format(max_time))\n",
    "print('El tiempo total para armar la tabla fue de {} s'.format(total_time))"
   ]
  },
  {
   "cell_type": "code",
   "execution_count": 6,
   "metadata": {},
   "outputs": [],
   "source": [
    "# Guardar en json. Crea un archivo llamado countries.json\n",
    "MainObject().save_in_json()"
   ]
  }
 ],
 "metadata": {
  "interpreter": {
   "hash": "dcc9d9327ff615c36b76e6baa12c04019aa1de4a452ad49f2885ed785311a286"
  },
  "kernelspec": {
   "display_name": "Python 3.8.10 ('country-env': venv)",
   "language": "python",
   "name": "python3"
  },
  "language_info": {
   "codemirror_mode": {
    "name": "ipython",
    "version": 3
   },
   "file_extension": ".py",
   "mimetype": "text/x-python",
   "name": "python",
   "nbconvert_exporter": "python",
   "pygments_lexer": "ipython3",
   "version": "3.8.10"
  },
  "orig_nbformat": 4
 },
 "nbformat": 4,
 "nbformat_minor": 2
}
